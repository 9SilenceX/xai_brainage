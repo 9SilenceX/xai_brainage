{
 "cells": [
  {
   "cell_type": "code",
   "execution_count": null,
   "id": "adfacdb8",
   "metadata": {},
   "outputs": [],
   "source": [
    "import numpy as np\n",
    "import os\n",
    "import nibabel as nib\n",
    "import imageio"
   ]
  },
  {
   "cell_type": "code",
   "execution_count": null,
   "id": "3f23c1a8",
   "metadata": {},
   "outputs": [],
   "source": [
    "def nii_to_image(niifile):\n",
    "    filenames = os.listdir(filepath)\n",
    "    for f in filenames:\n",
    "        img_path = os.path.join(filepath, f)\n",
    "        img = nib.load(img_path,)\n",
    "        img_fdata = img.get_fdata()\n",
    "        \n",
    "        fnamex = f.replace('.nii',\"\")\n",
    "        \n",
    "        (x,y,z) = img.shape\n",
    "        for i in range(x):\n",
    "            silce = img_fdata[:,:,(img_fdata.shape[2]//2)]\n",
    "            imageio.imwrite(os.path.join(imgfile,fnamex+'.png'.format((img_fdata.shape[2]//2))), silce)\n",
    "            \n",
    "if __name__ == '__main__':\n",
    "    filepath = r'C:\\Users\\PHYO\\Documents\\1_Current Files\\Jupyter\\XAI\\ADNI1-Complete 1Yr 1.5T' #file path of the nii images\n",
    "    imgfile = r'C:\\Users\\PHYO\\Documents\\1_Current Files\\Jupyter\\XAI\\ADNI1_2D' # file path to save the 2D images\n",
    "    nii_to_image(filepath)"
   ]
  },
  {
   "cell_type": "code",
   "execution_count": null,
   "id": "71de1197",
   "metadata": {},
   "outputs": [],
   "source": []
  }
 ],
 "metadata": {
  "kernelspec": {
   "display_name": "Python 3 (ipykernel)",
   "language": "python",
   "name": "python3"
  },
  "language_info": {
   "codemirror_mode": {
    "name": "ipython",
    "version": 3
   },
   "file_extension": ".py",
   "mimetype": "text/x-python",
   "name": "python",
   "nbconvert_exporter": "python",
   "pygments_lexer": "ipython3",
   "version": "3.8.12"
  }
 },
 "nbformat": 4,
 "nbformat_minor": 5
}
