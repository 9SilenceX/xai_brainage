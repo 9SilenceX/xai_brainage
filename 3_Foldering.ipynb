{
 "cells": [
  {
   "cell_type": "code",
   "execution_count": null,
   "id": "3b36bb9a",
   "metadata": {},
   "outputs": [],
   "source": [
    "import numpy as np # linear algebra\n",
    "import pandas as pd # data processing, CSV file I/O (e.g. pd.read_csv)\n",
    "\n",
    "import os\n",
    "#print(os.listdir(\"horizontal_mid/\"))"
   ]
  },
  {
   "cell_type": "code",
   "execution_count": null,
   "id": "eda1e4d9",
   "metadata": {},
   "outputs": [],
   "source": [
    "label_data = pd.read_csv('CN.csv')\n",
    "label_data=label_data.iloc[:,[0,3]]\n",
    "label_data"
   ]
  },
  {
   "cell_type": "code",
   "execution_count": null,
   "id": "19368ced",
   "metadata": {},
   "outputs": [],
   "source": [
    "label_names=label_data.iloc[:,[0]]\n",
    "label_names.head()"
   ]
  },
  {
   "cell_type": "code",
   "execution_count": null,
   "id": "1c8c6475",
   "metadata": {},
   "outputs": [],
   "source": [
    "expand_labels=pd.get_dummies(label_data.Age_lb)\n",
    "expand_labels.head()"
   ]
  },
  {
   "cell_type": "code",
   "execution_count": null,
   "id": "c0000b9e",
   "metadata": {},
   "outputs": [],
   "source": [
    "expand_label_bool=expand_labels.astype('bool')\n",
    "frames=[label_names,expand_label_bool]\n",
    "dataset=pd.concat(frames,axis=1)\n",
    "dataset.head()"
   ]
  },
  {
   "cell_type": "code",
   "execution_count": null,
   "id": "4f3b1f9e",
   "metadata": {},
   "outputs": [],
   "source": [
    "folder_names=label_data.Age_lb.unique().astype('str')\n",
    "folder_names"
   ]
  },
  {
   "cell_type": "code",
   "execution_count": null,
   "id": "cd441f45",
   "metadata": {},
   "outputs": [],
   "source": [
    "import shutil\n",
    "\n",
    "copy_from='horizontal_mid'\n",
    "copy_to='data/'"
   ]
  },
  {
   "cell_type": "code",
   "execution_count": null,
   "id": "798c410e",
   "metadata": {},
   "outputs": [],
   "source": [
    "if os.path.isdir(copy_to):\n",
    "    shutil.rmtree(copy_to)\n",
    "    os.makedirs(copy_to)\n",
    "else:\n",
    "    os.makedirs(copy_to)\n",
    "os.listdir(copy_to)"
   ]
  },
  {
   "cell_type": "code",
   "execution_count": null,
   "id": "c5872323",
   "metadata": {},
   "outputs": [],
   "source": [
    "for name in folder_names:\n",
    "    #create folder\n",
    "    os.mkdir(copy_to+name)\n",
    "os.listdir(copy_to)"
   ]
  },
  {
   "cell_type": "code",
   "execution_count": null,
   "id": "8e86d9ce",
   "metadata": {},
   "outputs": [],
   "source": [
    "import shutil\n",
    "\n",
    "for name in folder_names:\n",
    "    files=dataset.ImageID[dataset[name]==True]\n",
    "    for file in files:\n",
    "        path_from='horizontal_mid/'+file\n",
    "        path_to='data/'+name+'/'+file\n",
    "        shutil.copyfile(path_from, path_to)"
   ]
  }
 ],
 "metadata": {
  "kernelspec": {
   "display_name": "Python 3 (ipykernel)",
   "language": "python",
   "name": "python3"
  },
  "language_info": {
   "codemirror_mode": {
    "name": "ipython",
    "version": 3
   },
   "file_extension": ".py",
   "mimetype": "text/x-python",
   "name": "python",
   "nbconvert_exporter": "python",
   "pygments_lexer": "ipython3",
   "version": "3.8.12"
  }
 },
 "nbformat": 4,
 "nbformat_minor": 5
}
